{
 "cells": [
  {
   "metadata": {},
   "cell_type": "markdown",
   "source": "Here I just wanted to ensure that the source cannot move along the nebula itself. Indeed, it cannot: it's too slow",
   "id": "5a2b615401b22dbd"
  },
  {
   "cell_type": "code",
   "id": "initial_id",
   "metadata": {
    "collapsed": true,
    "ExecuteTime": {
     "end_time": "2025-05-19T11:33:40.742517Z",
     "start_time": "2025-05-19T11:33:40.736041Z"
    }
   },
   "source": [
    "import numpy as np\n",
    "\n",
    "import astropy.units as u\n",
    "from astropy.coordinates import SkyCoord, galactocentric_frame_defaults, Galactic, Galactocentric\n",
    "galactocentric_frame_defaults.set('v4.0')"
   ],
   "outputs": [
    {
     "data": {
      "text/plain": [
       "<ScienceState galactocentric_frame_defaults: {'galcen_coord': <ICRS Coordinate: (ra, dec) in deg...>"
      ]
     },
     "execution_count": 5,
     "metadata": {},
     "output_type": "execute_result"
    }
   ],
   "execution_count": 5
  },
  {
   "metadata": {
    "ExecuteTime": {
     "end_time": "2025-05-19T11:33:40.798538Z",
     "start_time": "2025-05-19T11:33:40.793632Z"
    }
   },
   "cell_type": "code",
   "source": [
    "c1 =SkyCoord(\n",
    "    ra=274.84 * u.deg,\n",
    "    dec=-25.497 * u.deg,\n",
    "    distance=(0.1692 * u.mas).to(u.pc, u.parallax()),\n",
    "    pm_ra_cosdec=-0.779 * (u.mas / u.yr),\n",
    "    pm_dec=0.433 * (u.mas / u.yr),\n",
    "    radial_velocity=72 * (u.km / u.s),\n",
    "    frame=\"icrs\",\n",
    ")\n",
    "\n",
    "c1.velocity"
   ],
   "id": "22de9ecd16820f72",
   "outputs": [
    {
     "data": {
      "text/plain": [
       "<CartesianDifferential (d_x, d_y, d_z) in km / s\n",
       "    (-15.82353846, -71.80098453, -20.04354861)>"
      ]
     },
     "execution_count": 6,
     "metadata": {},
     "output_type": "execute_result"
    }
   ],
   "execution_count": 6
  },
  {
   "metadata": {
    "ExecuteTime": {
     "end_time": "2025-05-19T11:33:40.854718Z",
     "start_time": "2025-05-19T11:33:40.848240Z"
    }
   },
   "cell_type": "code",
   "source": "c1.galactic",
   "id": "824b401cc15bf67b",
   "outputs": [
    {
     "data": {
      "text/plain": [
       "<SkyCoord (Galactic): (l, b, distance) in (deg, deg, pc)\n",
       "    (6.69418094, -4.8308828, 5910.16548463)\n",
       " (pm_l_cosb, pm_b, radial_velocity) in (mas / yr, mas / yr, km / s)\n",
       "    (0.01941321, 0.89104047, 72.)>"
      ]
     },
     "execution_count": 7,
     "metadata": {},
     "output_type": "execute_result"
    }
   ],
   "execution_count": 7
  },
  {
   "metadata": {
    "ExecuteTime": {
     "end_time": "2025-05-19T11:33:40.910313Z",
     "start_time": "2025-05-19T11:33:40.903849Z"
    }
   },
   "cell_type": "code",
   "source": [
    "gc1 = c1.transform_to(Galactocentric())\n",
    "gc1"
   ],
   "id": "189eb603590097ec",
   "outputs": [
    {
     "data": {
      "text/plain": [
       "<SkyCoord (Galactocentric: galcen_coord=<ICRS Coordinate: (ra, dec) in deg\n",
       "    (266.4051, -28.936175)>, galcen_distance=8.122 kpc, galcen_v_sun=(12.9, 245.6, 7.78) km / s, z_sun=20.8 pc, roll=0.0 deg): (x, y, z) in pc\n",
       "    (-2274.24499045, 686.49509496, -491.89229045)\n",
       " (v_x, v_y, v_z) in km / s\n",
       "    (86.22765748, 254.74838274, 26.40448205)>"
      ]
     },
     "execution_count": 8,
     "metadata": {},
     "output_type": "execute_result"
    }
   ],
   "execution_count": 8
  },
  {
   "metadata": {
    "ExecuteTime": {
     "end_time": "2025-05-19T11:36:15.005671Z",
     "start_time": "2025-05-19T11:36:15.000074Z"
    }
   },
   "cell_type": "code",
   "source": "gc1.cartesian.xyz @ gc1.velocity.d_xyz / np.sqrt(gc1.cartesian.xyz @ gc1.cartesian.xyz)",
   "id": "fbdfd800fa37b0b8",
   "outputs": [
    {
     "data": {
      "text/plain": [
       "<Quantity -14.10041866 km / s>"
      ],
      "text/latex": "$-14.100419 \\; \\mathrm{\\frac{km}{s}}$"
     },
     "execution_count": 19,
     "metadata": {},
     "output_type": "execute_result"
    }
   ],
   "execution_count": 19
  }
 ],
 "metadata": {
  "kernelspec": {
   "display_name": "Python 3",
   "language": "python",
   "name": "python3"
  },
  "language_info": {
   "codemirror_mode": {
    "name": "ipython",
    "version": 2
   },
   "file_extension": ".py",
   "mimetype": "text/x-python",
   "name": "python",
   "nbconvert_exporter": "python",
   "pygments_lexer": "ipython2",
   "version": "2.7.6"
  }
 },
 "nbformat": 4,
 "nbformat_minor": 5
}
